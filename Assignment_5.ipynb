{
 "cells": [
  {
   "cell_type": "markdown",
   "id": "7fd574ca",
   "metadata": {},
   "source": [
    "# Challenge 1: Square Numbers and Return Their Sum"
   ]
  },
  {
   "cell_type": "code",
   "execution_count": 1,
   "id": "dc8fe89f",
   "metadata": {},
   "outputs": [
    {
     "name": "stdout",
     "output_type": "stream",
     "text": [
      "Enter the values for x, y, z: 1,3,5\n",
      "Output: 35\n"
     ]
    }
   ],
   "source": [
    "class Point:\n",
    "    def __init__(self,x,y,z):\n",
    "        self.x=x\n",
    "        self.y=y\n",
    "        self.z=z\n",
    "    def sqSum(self):\n",
    "        return self.x**2 + self.y**2 + self.z**2\n",
    "    \n",
    "x,y,z = map(int,input(\"Enter the values for x, y, z: \").split(\",\"))\n",
    "\n",
    "instance=Point(x,y,z)\n",
    "result=instance.sqSum()\n",
    "print(\"Output:\", result)"
   ]
  },
  {
   "cell_type": "markdown",
   "id": "8cea1354",
   "metadata": {},
   "source": [
    "# Challenge 2: Implement a Calculator Class"
   ]
  },
  {
   "cell_type": "code",
   "execution_count": 2,
   "id": "889f07f1",
   "metadata": {},
   "outputs": [
    {
     "name": "stdout",
     "output_type": "stream",
     "text": [
      "Enter the values for num1 and num2: 10,94\n",
      "sum: 104.0\n",
      "sub: 84.0\n",
      "mul: 940.0\n",
      "div: 9.4\n"
     ]
    }
   ],
   "source": [
    "class Calculator:\n",
    "    def __init__(self,num1,num2):\n",
    "        self.num1 = num1\n",
    "        self.num2 = num2\n",
    "    def add(self):\n",
    "        return num1+num2\n",
    "    def sub(self):\n",
    "        return num2-num1\n",
    "    def mul(self):\n",
    "        return num1*num2\n",
    "    def div(self):\n",
    "        return num2/num1\n",
    "num1,num2=map(float,input(\"Enter the values for num1 and num2: \").split(\",\"))\n",
    "\n",
    "instance=Calculator(num1,num2)\n",
    "\n",
    "result_sum=instance.add()\n",
    "result_sub=instance.sub()\n",
    "result_mul=instance.mul()\n",
    "result_div=instance.div()\n",
    "\n",
    "print(\"sum:\",result_sum)\n",
    "print(\"sub:\",result_sub)\n",
    "print(\"mul:\",result_mul)\n",
    "print(\"div:\",result_div)"
   ]
  },
  {
   "cell_type": "markdown",
   "id": "efd16b14",
   "metadata": {},
   "source": [
    "# Challenge 3: Implement the Complete Student Class"
   ]
  },
  {
   "cell_type": "code",
   "execution_count": 3,
   "id": "435815b3",
   "metadata": {},
   "outputs": [
    {
     "name": "stdout",
     "output_type": "stream",
     "text": [
      "Enter the name of a student: Noopur\n",
      "Enter the roll_no: 22\n",
      "Name: Noopur\n",
      "Roll_no: 22\n"
     ]
    }
   ],
   "source": [
    "class Student:\n",
    "    \n",
    "    def get_name(self):\n",
    "        return self.__name\n",
    "    def set_name(self,name):\n",
    "        self.__name = name\n",
    "    def get_roll_no(self):\n",
    "        return self.__roll_no\n",
    "    def set_roll_no(self,roll_no):\n",
    "        self.__roll_no = roll_no\n",
    "    \n",
    "instance = Student()\n",
    "n_input = input((\"Enter the name of a student: \"))\n",
    "r_input = int(input(\"Enter the roll_no: \"))\n",
    "        \n",
    "instance.set_name(n_input)\n",
    "instance.set_roll_no(r_input)\n",
    "print(\"Name:\",instance.get_name())\n",
    "print(\"Roll_no:\",instance.get_roll_no())"
   ]
  },
  {
   "cell_type": "markdown",
   "id": "1e8ec128",
   "metadata": {},
   "source": [
    "# Challenge 4: Implement a Banking Account"
   ]
  },
  {
   "cell_type": "code",
   "execution_count": 9,
   "id": "79185bae",
   "metadata": {},
   "outputs": [
    {
     "name": "stdout",
     "output_type": "stream",
     "text": [
      "Enter the title of account:Ashish\n",
      "Enter the balance:5000\n",
      "Enter the title of your account:Ashish\n",
      "Enter the balance of your account:5000\n",
      "Enter the interest rate:5\n",
      "Acc title: Ashish\n",
      "Acc balance: 5000\n",
      "Rate of interest: 5.0\n"
     ]
    }
   ],
   "source": [
    "class Account:\n",
    "    def __init__(self,title,balance):\n",
    "        self.title = title\n",
    "        self.balance = balance\n",
    "\n",
    "class SavingsAccount(Account):\n",
    "    def __init__(self,title,balance,int_rate):\n",
    "        super().__init__(title,balance)\n",
    "        self.int_rate=int_rate\n",
    "    \n",
    "t=input(\"Enter the title of account:\")\n",
    "b=int(input(\"Enter the balance:\"))\n",
    "acc = Account(t,b)\n",
    "\n",
    "t1=input(\"Enter the title of your account:\")\n",
    "b1=int(input(\"Enter the balance of your account:\"))\n",
    "int_rate=float(input(\"Enter the interest rate:\"))\n",
    "\n",
    "sav_acc = SavingsAccount(t1, b1, int_rate)\n",
    "\n",
    "print(\"Acc title:\",sav_acc.title)\n",
    "print(\"Acc balance:\",sav_acc.balance)\n",
    "print(\"Rate of interest:\",sav_acc.int_rate)"
   ]
  },
  {
   "cell_type": "markdown",
   "id": "02e02dca",
   "metadata": {},
   "source": [
    "# Challenge 5: Handling a Bank Account"
   ]
  },
  {
   "cell_type": "code",
   "execution_count": 10,
   "id": "fe1cafa1",
   "metadata": {},
   "outputs": [
    {
     "name": "stdout",
     "output_type": "stream",
     "text": [
      "Enter the name : Ashish\n",
      "Enter the balance : 2000\n",
      "Enter the interestRate : 5\n"
     ]
    }
   ],
   "source": [
    "class Account:\n",
    "    def __init__(self, title=None, balance=0):\n",
    "        self.title = title\n",
    "        self.balance = balance\n",
    "    \n",
    "    def withdrawal(self, amount):\n",
    "        self.balance -= amount\n",
    "        \n",
    "\n",
    "    def deposite(self, amount):\n",
    "        self.balance += amount\n",
    "        \n",
    "    def getBalance(self):\n",
    "        return self.balance \n",
    "    \n",
    "\n",
    "class SavingsAccount(Account):\n",
    "    def __init__(self, title=None, balance=0, interestRate=0):\n",
    "            super().__init__(title, balance)\n",
    "            self.interestRate = interestRate\n",
    "    \n",
    "    def interestAmount(self):\n",
    "        int_amount = (self.interestRate * self.balance) // 100\n",
    "        return int_amount\n",
    "    \n",
    "title = str(input(\"Enter the name : \"))\n",
    "balance = int(input(\"Enter the balance : \"))\n",
    "int_rate = int(input(\"Enter the interestRate : \"))\n",
    "\n",
    "\n",
    "#Task_no_1\n",
    "\n",
    "demo1 = SavingsAccount(\"Ashish\", 2000, 5)"
   ]
  },
  {
   "cell_type": "code",
   "execution_count": 11,
   "id": "fdeefbde",
   "metadata": {},
   "outputs": [
    {
     "data": {
      "text/plain": [
       "2500"
      ]
     },
     "execution_count": 11,
     "metadata": {},
     "output_type": "execute_result"
    }
   ],
   "source": [
    "#Task_no_2\n",
    "\n",
    "demo1.balance = 2000\n",
    "demo1.deposite(500)\n",
    "demo1.getBalance()\n"
   ]
  },
  {
   "cell_type": "code",
   "execution_count": 12,
   "id": "81adea89",
   "metadata": {},
   "outputs": [
    {
     "data": {
      "text/plain": [
       "1500"
      ]
     },
     "execution_count": 12,
     "metadata": {},
     "output_type": "execute_result"
    }
   ],
   "source": [
    "#Task_no_3\n",
    "\n",
    "demo1.balance = 2000\n",
    "demo1.withdrawal(500)\n",
    "demo1.getBalance()\n"
   ]
  },
  {
   "cell_type": "code",
   "execution_count": 13,
   "id": "f3365ecd",
   "metadata": {},
   "outputs": [
    {
     "data": {
      "text/plain": [
       "100"
      ]
     },
     "execution_count": 13,
     "metadata": {},
     "output_type": "execute_result"
    }
   ],
   "source": [
    "#Task_no_4\n",
    "\n",
    "demo1.balance = 2000\n",
    "demo1.interestRate = 5\n",
    "demo1.interestAmount()\n"
   ]
  }
 ],
 "metadata": {
  "kernelspec": {
   "display_name": "Python 3 (ipykernel)",
   "language": "python",
   "name": "python3"
  },
  "language_info": {
   "codemirror_mode": {
    "name": "ipython",
    "version": 3
   },
   "file_extension": ".py",
   "mimetype": "text/x-python",
   "name": "python",
   "nbconvert_exporter": "python",
   "pygments_lexer": "ipython3",
   "version": "3.10.9"
  }
 },
 "nbformat": 4,
 "nbformat_minor": 5
}
